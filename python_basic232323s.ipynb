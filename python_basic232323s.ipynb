{
 "cells": [
  {
   "cell_type": "markdown",
   "metadata": {},
   "source": [
    "**Задание 1**. Даны 2 строки: *long_phrase* и *short_phrase*. \n",
    "Напишите код, который проверяет действительно ли длинная фраза *long_phrase* длиннее короткой *short_phrase*. И выводит *True* или *False* в зависимости от результата сравнения."
   ]
  },
  {
   "cell_type": "code",
   "execution_count": 1,
   "metadata": {},
   "outputs": [
    {
     "name": "stdout",
     "output_type": "stream",
     "text": [
      "True\n"
     ]
    }
   ],
   "source": [
    "long_phrase = 'Насколько проще было бы писать программы, если бы не заказчики'\n",
    "short_phrase = '640Кб должно хватить для любых задач. Билл Гейтс (по легенде)'\n",
    "print (len(long_phrase) > len(short_phrase))\n"
   ]
  },
  {
   "cell_type": "markdown",
   "metadata": {},
   "source": [
    "**Задание 2**. Дано значение объема файла в байтах (*в мегабайте 2^20 байт*). Напишите перевод этого значения в мегабайты в формате: \"*Объем файла равен 213.68Mb*\"."
   ]
  },
  {
   "cell_type": "code",
   "execution_count": 2,
   "metadata": {},
   "outputs": [
    {
     "name": "stdin",
     "output_type": "stream",
     "text": [
      "Объём файла в байтах 150000\n"
     ]
    },
    {
     "name": "stdout",
     "output_type": "stream",
     "text": [
      "Объём файла равен  0.1430511474609375 Mb\n"
     ]
    }
   ],
   "source": [
    "number = int(input('Объём файла в байтах'))\n",
    "print (\"Объём файла равен \", number/2**20, 'Mb')"
   ]
  },
  {
   "cell_type": "code",
   "execution_count": 6,
   "metadata": {},
   "outputs": [
    {
     "name": "stdin",
     "output_type": "stream",
     "text": [
      "Введите месяц сентябрь\n",
      "Введите дату 29\n"
     ]
    },
    {
     "name": "stdout",
     "output_type": "stream",
     "text": [
      "Весы\n"
     ]
    }
   ],
   "source": [
    "month = input ('Введите месяц')\n",
    "date = int(input(\"Введите дату\"))\n",
    "if ((date >= 21 and date <= 31 and month=='март') or (month == 'апрель' and date >=1 and date<=20)):\n",
    "   print(\"Овен\")\n",
    "elif ((date >= 21 and date <= 30 and month=='апрель') or (month == 'май' and date >=1 and date<=21)):\n",
    "   print(\"Телец\")\n",
    "elif ((date >= 22 and date <= 31 and month=='май') or (month == 'июнь' and date >=1 and date<=21)):\n",
    "   print(\"Близнецы\")\n",
    "elif ((date >= 22 and date <= 30 and month=='июнь') or (month == 'июль' and date >=1 and date<=22)):\n",
    "   print(\"Рак\")\n",
    "elif ((date >= 23 and date <= 31 and month=='июль') or (month == 'август' and date >=1 and date<=21)):\n",
    "   print(\"Лев\")\n",
    "elif ((date >= 22 and date <= 31 and month=='август') or (month == 'сентябрь' and date >=1 and date<=23)):\n",
    "   print(\"Дева\")\n",
    "elif ((date >= 24 and date <= 30 and month=='сентябрь') or (month == 'октябрь' and date >=1 and date<=23)):\n",
    "   print(\"Весы\")\n",
    "elif ((date >= 24 and date <= 31 and month=='октябрь') or (month == 'ноябрь' and date >=1 and date<=22)):\n",
    "   print(\"Скорпион\")\n",
    "elif ((date >= 23 and date <= 30 and month=='ноябрь') or (month == 'декабрь' and date >=1 and date<=22)):\n",
    "   print(\"Стрелец\")\n",
    "elif ((date >= 21 and date <= 30 and month=='декабрь') or (month == 'январь' and date >=1 and date<=20)):\n",
    "   print(\"Козерог\")\n",
    "elif ((date >= 21 and date <= 31 and month=='январь') or (month == 'февраль' and date >=1 and date<=20)):\n",
    "   print(\"Водолей\")\n",
    "elif ((date >= 21 and date <= 29 and month=='февраль') or (month == 'март' and date >=1 and date<=20)):\n",
    "   print(\"Рыбы\")"
   ]
  },
  {
   "cell_type": "markdown",
   "metadata": {},
   "source": [
    "**Задание 4**. Нужно разработать приложение для финансового планирования.\n",
    "Приложение учитывает сколько уходит на ипотеку, \"на жизнь\" и сколько нужно отложить на пенсию.\n",
    "Пользователь вводит:\n",
    "- заработанную плату в месяц.\n",
    "- сколько процентов от ЗП уходит на ипотеку.\n",
    "- сколько процентов от ЗП уходит \"на жизнь\".\n",
    "- сколько раз приходит премия в год.\n",
    "\n",
    "Остальная часть заработанной платы откладывается на пенсию.\n",
    "\n",
    "Также пользователю приходит премия в размере зарплаты, от которой половина уходит на отпуск, а вторая половина откладывается.\n",
    "\n",
    "Программа должна учитывать сколько премий было в год.\n",
    "\n",
    "Нужно вывести сколько денег тратит пользователь на ипотеку и сколько он накопит за год.\n",
    "\n",
    "Пример:\n",
    "\n",
    "Введите заработанную плату в месяц: 100000\n",
    "\n",
    "Введите сколько процентов уходит на ипотеку: 30\n",
    "\n",
    "Введите сколько процентов уходит на жизнь: 50\n",
    "\n",
    "Введите количество премий за год: 2\n",
    "\n",
    "Вывод:\n",
    "На ипотеку было потрачено: 360000 рублей\n",
    "Было накоплено: 340000 рублей"
   ]
  },
  {
   "cell_type": "code",
   "execution_count": 4,
   "metadata": {},
   "outputs": [
    {
     "name": "stdin",
     "output_type": "stream",
     "text": [
      "Введите ЗП 100000\n",
      "Сколько процентов уходит на ипотеку? 30\n",
      "Сколько процентов уходит на жизнь 50\n",
      "Количество премий за год 2\n"
     ]
    },
    {
     "name": "stdout",
     "output_type": "stream",
     "text": [
      "На ипотеку было потрачено: 360000.0 рублей Было накоплено: 340000.0 рублей\n"
     ]
    }
   ],
   "source": [
    "solary = int (input('Введите ЗП'))\n",
    "mortgage = int (input('Сколько процентов уходит на ипотеку?'))\n",
    "perdiem = int (input('Сколько процентов уходит на жизнь'))\n",
    "prize = int (input('Количество премий за год'))\n",
    "print (\"На ипотеку было потрачено:\", solary * mortgage / 100*12, 'рублей Было накоплено:', (solary*12*(100 - (mortgage+perdiem))/100) + (solary * prize / 2), \"рублей\")"
   ]
  },
  {
   "cell_type": "code",
   "execution_count": null,
   "metadata": {},
   "outputs": [],
   "source": []
  }
 ],
 "metadata": {
  "kernelspec": {
   "display_name": "Python 3",
   "language": "python",
   "name": "python3"
  },
  "language_info": {
   "codemirror_mode": {
    "name": "ipython",
    "version": 3
   },
   "file_extension": ".py",
   "mimetype": "text/x-python",
   "name": "python",
   "nbconvert_exporter": "python",
   "pygments_lexer": "ipython3",
   "version": "3.8.3"
  }
 },
 "nbformat": 4,
 "nbformat_minor": 4
}
